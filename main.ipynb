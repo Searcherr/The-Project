{
 "cells": [
  {
   "cell_type": "code",
   "execution_count": 1,
   "metadata": {},
   "outputs": [],
   "source": [
    "import cv2\n",
    "import os\n",
    "\n",
    "# A class for image bluring\n",
    "class ImageBlur:\n",
    "    def __init__(self, input_file):\n",
    "        self.input_file = input_file\n",
    "        if not os.path.exists(self.input_file):\n",
    "            raise ValueError(f\"Input file '{self.input_file}' does not exist.\")\n",
    "        self.image = cv2.imread(self.input_file)\n",
    "        if self.image is None:\n",
    "            raise ValueError(f\"Failed to load input file '{self.input_file}'.\")\n",
    "        \n",
    "    def apply_gaussian_blur(self, kernel_size=(5, 5), sigma_x=0):\n",
    "        if self.image is not None:\n",
    "            self.image = cv2.GaussianBlur(self.image, kernel_size, sigma_x)\n",
    "        \n",
    "    def apply_box_blur(self, kernel_size=(5, 5)):\n",
    "        if self.image is not None:\n",
    "            self.image = cv2.blur(self.image, kernel_size)\n",
    "        \n",
    "    def save_blurred_image(self, output_file):\n",
    "        if self.image is not None:\n",
    "            cv2.imwrite(output_file, self.image)\n",
    "    \n",
    "    def show_blurred_image(self):\n",
    "        if self.image is not None:\n",
    "            cv2.imshow('Blurred Image', self.image)\n",
    "            cv2.waitKey(0)\n",
    "            cv2.destroyAllWindows()\n"
   ]
  },
  {
   "cell_type": "code",
   "execution_count": 3,
   "metadata": {},
   "outputs": [],
   "source": [
    "path_to_file = \".\\images\\Samoyed-dog.webp\"\n",
    "\n",
    "blur = ImageBlur(path_to_file)\n",
    "blur.apply_gaussian_blur(kernel_size=(15, 15), sigma_x=0)\n",
    "blur.save_blurred_image('blured_image.jpg')\n",
    "blur.show_blurred_image()"
   ]
  },
  {
   "cell_type": "code",
   "execution_count": 2,
   "metadata": {},
   "outputs": [],
   "source": [
    "# A class for image enchanting\n",
    "class ImageEnhancement:\n",
    "    def __init__(self, input_file):\n",
    "        self.input_file = input_file\n",
    "        if not os.path.exists(self.input_file):\n",
    "            raise ValueError(f\"Input file '{self.input_file}' does not exist.\")\n",
    "        self.image = cv2.imread(self.input_file)\n",
    "        if self.image is None:\n",
    "            raise ValueError(f\"Failed to load input file '{self.input_file}'.\")\n",
    "        \n",
    "    def apply_gamma_correction(self, gamma=1.0):\n",
    "        if self.image is not None:\n",
    "            self.image = cv2.pow(self.image / 255.0, gamma)\n",
    "            self.image = cv2.normalize(self.image, None, 0, 255, cv2.NORM_MINMAX, dtype=cv2.CV_8UC1)\n",
    "    \n",
    "    def apply_various_linear_filter(self):\n",
    "        pass\n",
    "\n",
    "    def apply_various_nonlinear_filter(self):\n",
    "        pass\n",
    "\n",
    "    def apply_fourier_frequency_domain_methods(self):\n",
    "        pass\n",
    "\n",
    "    def apply_wavelet_frequency_domain_methods(self):\n",
    "        pass\n",
    "        \n",
    "    def show_image(self, window_name='Image'):\n",
    "        if self.image is not None:\n",
    "            cv2.imshow(window_name, self.image)\n",
    "            cv2.waitKey(0)\n",
    "            cv2.destroyAllWindows()\n",
    "            \n",
    "    def save_image(self, output_file):\n",
    "        if self.image is not None:\n",
    "            cv2.imwrite(output_file, self.image)"
   ]
  },
  {
   "cell_type": "code",
   "execution_count": 5,
   "metadata": {},
   "outputs": [],
   "source": [
    "blured_image_path = \"./blured_image.jpg\"\n",
    "\n",
    "enhance = ImageEnhancement(blured_image_path)\n",
    "enhance.apply_gamma_correction(gamma=2)\n",
    "enhance.show_image()\n",
    "enhance.save_image('enhanced_image.jpg')"
   ]
  }
 ],
 "metadata": {
  "kernelspec": {
   "display_name": "JupyterEnv",
   "language": "python",
   "name": "python3"
  },
  "language_info": {
   "codemirror_mode": {
    "name": "ipython",
    "version": 3
   },
   "file_extension": ".py",
   "mimetype": "text/x-python",
   "name": "python",
   "nbconvert_exporter": "python",
   "pygments_lexer": "ipython3",
   "version": "3.9.16"
  },
  "orig_nbformat": 4
 },
 "nbformat": 4,
 "nbformat_minor": 2
}
